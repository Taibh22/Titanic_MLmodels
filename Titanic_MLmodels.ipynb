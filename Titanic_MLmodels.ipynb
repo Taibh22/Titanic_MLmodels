{
 "cells": [
  {
   "cell_type": "code",
   "execution_count": 3,
   "id": "ce48a1c9",
   "metadata": {},
   "outputs": [],
   "source": [
    "import pandas as pd\n",
    "import numpy as np\n"
   ]
  },
  {
   "cell_type": "markdown",
   "id": "ad488161",
   "metadata": {},
   "source": [
    "# EDA & Data Wrangling"
   ]
  },
  {
   "cell_type": "code",
   "execution_count": 4,
   "id": "4c38d4e2",
   "metadata": {},
   "outputs": [],
   "source": [
    "train_set= pd.read_csv('C:/Users/96650/OneDrive/Desktop/spiced_projects/student-code/thyme-machine-student-code/data/train.csv')"
   ]
  },
  {
   "cell_type": "code",
   "execution_count": 5,
   "id": "a0388948",
   "metadata": {},
   "outputs": [
    {
     "data": {
      "text/html": [
       "<div>\n",
       "<style scoped>\n",
       "    .dataframe tbody tr th:only-of-type {\n",
       "        vertical-align: middle;\n",
       "    }\n",
       "\n",
       "    .dataframe tbody tr th {\n",
       "        vertical-align: top;\n",
       "    }\n",
       "\n",
       "    .dataframe thead th {\n",
       "        text-align: right;\n",
       "    }\n",
       "</style>\n",
       "<table border=\"1\" class=\"dataframe\">\n",
       "  <thead>\n",
       "    <tr style=\"text-align: right;\">\n",
       "      <th></th>\n",
       "      <th>PassengerId</th>\n",
       "      <th>Survived</th>\n",
       "      <th>Pclass</th>\n",
       "      <th>Name</th>\n",
       "      <th>Sex</th>\n",
       "      <th>Age</th>\n",
       "      <th>SibSp</th>\n",
       "      <th>Parch</th>\n",
       "      <th>Ticket</th>\n",
       "      <th>Fare</th>\n",
       "      <th>Cabin</th>\n",
       "      <th>Embarked</th>\n",
       "    </tr>\n",
       "  </thead>\n",
       "  <tbody>\n",
       "    <tr>\n",
       "      <th>0</th>\n",
       "      <td>1</td>\n",
       "      <td>0</td>\n",
       "      <td>3</td>\n",
       "      <td>Braund, Mr. Owen Harris</td>\n",
       "      <td>male</td>\n",
       "      <td>22.0</td>\n",
       "      <td>1</td>\n",
       "      <td>0</td>\n",
       "      <td>A/5 21171</td>\n",
       "      <td>7.2500</td>\n",
       "      <td>NaN</td>\n",
       "      <td>S</td>\n",
       "    </tr>\n",
       "    <tr>\n",
       "      <th>1</th>\n",
       "      <td>2</td>\n",
       "      <td>1</td>\n",
       "      <td>1</td>\n",
       "      <td>Cumings, Mrs. John Bradley (Florence Briggs Th...</td>\n",
       "      <td>female</td>\n",
       "      <td>38.0</td>\n",
       "      <td>1</td>\n",
       "      <td>0</td>\n",
       "      <td>PC 17599</td>\n",
       "      <td>71.2833</td>\n",
       "      <td>C85</td>\n",
       "      <td>C</td>\n",
       "    </tr>\n",
       "    <tr>\n",
       "      <th>2</th>\n",
       "      <td>3</td>\n",
       "      <td>1</td>\n",
       "      <td>3</td>\n",
       "      <td>Heikkinen, Miss. Laina</td>\n",
       "      <td>female</td>\n",
       "      <td>26.0</td>\n",
       "      <td>0</td>\n",
       "      <td>0</td>\n",
       "      <td>STON/O2. 3101282</td>\n",
       "      <td>7.9250</td>\n",
       "      <td>NaN</td>\n",
       "      <td>S</td>\n",
       "    </tr>\n",
       "    <tr>\n",
       "      <th>3</th>\n",
       "      <td>4</td>\n",
       "      <td>1</td>\n",
       "      <td>1</td>\n",
       "      <td>Futrelle, Mrs. Jacques Heath (Lily May Peel)</td>\n",
       "      <td>female</td>\n",
       "      <td>35.0</td>\n",
       "      <td>1</td>\n",
       "      <td>0</td>\n",
       "      <td>113803</td>\n",
       "      <td>53.1000</td>\n",
       "      <td>C123</td>\n",
       "      <td>S</td>\n",
       "    </tr>\n",
       "    <tr>\n",
       "      <th>4</th>\n",
       "      <td>5</td>\n",
       "      <td>0</td>\n",
       "      <td>3</td>\n",
       "      <td>Allen, Mr. William Henry</td>\n",
       "      <td>male</td>\n",
       "      <td>35.0</td>\n",
       "      <td>0</td>\n",
       "      <td>0</td>\n",
       "      <td>373450</td>\n",
       "      <td>8.0500</td>\n",
       "      <td>NaN</td>\n",
       "      <td>S</td>\n",
       "    </tr>\n",
       "  </tbody>\n",
       "</table>\n",
       "</div>"
      ],
      "text/plain": [
       "   PassengerId  Survived  Pclass  \\\n",
       "0            1         0       3   \n",
       "1            2         1       1   \n",
       "2            3         1       3   \n",
       "3            4         1       1   \n",
       "4            5         0       3   \n",
       "\n",
       "                                                Name     Sex   Age  SibSp  \\\n",
       "0                            Braund, Mr. Owen Harris    male  22.0      1   \n",
       "1  Cumings, Mrs. John Bradley (Florence Briggs Th...  female  38.0      1   \n",
       "2                             Heikkinen, Miss. Laina  female  26.0      0   \n",
       "3       Futrelle, Mrs. Jacques Heath (Lily May Peel)  female  35.0      1   \n",
       "4                           Allen, Mr. William Henry    male  35.0      0   \n",
       "\n",
       "   Parch            Ticket     Fare Cabin Embarked  \n",
       "0      0         A/5 21171   7.2500   NaN        S  \n",
       "1      0          PC 17599  71.2833   C85        C  \n",
       "2      0  STON/O2. 3101282   7.9250   NaN        S  \n",
       "3      0            113803  53.1000  C123        S  \n",
       "4      0            373450   8.0500   NaN        S  "
      ]
     },
     "execution_count": 5,
     "metadata": {},
     "output_type": "execute_result"
    }
   ],
   "source": [
    "train_set.head()"
   ]
  },
  {
   "cell_type": "code",
   "execution_count": 6,
   "id": "5f137ae3",
   "metadata": {},
   "outputs": [
    {
     "name": "stdout",
     "output_type": "stream",
     "text": [
      "<class 'pandas.core.frame.DataFrame'>\n",
      "RangeIndex: 891 entries, 0 to 890\n",
      "Data columns (total 12 columns):\n",
      " #   Column       Non-Null Count  Dtype  \n",
      "---  ------       --------------  -----  \n",
      " 0   PassengerId  891 non-null    int64  \n",
      " 1   Survived     891 non-null    int64  \n",
      " 2   Pclass       891 non-null    int64  \n",
      " 3   Name         891 non-null    object \n",
      " 4   Sex          891 non-null    object \n",
      " 5   Age          714 non-null    float64\n",
      " 6   SibSp        891 non-null    int64  \n",
      " 7   Parch        891 non-null    int64  \n",
      " 8   Ticket       891 non-null    object \n",
      " 9   Fare         891 non-null    float64\n",
      " 10  Cabin        204 non-null    object \n",
      " 11  Embarked     889 non-null    object \n",
      "dtypes: float64(2), int64(5), object(5)\n",
      "memory usage: 83.7+ KB\n"
     ]
    }
   ],
   "source": [
    "train_set.info()"
   ]
  },
  {
   "cell_type": "code",
   "execution_count": 7,
   "id": "90e7f15f",
   "metadata": {},
   "outputs": [
    {
     "data": {
      "text/plain": [
       "PassengerId      int64\n",
       "Survived         int64\n",
       "Pclass           int64\n",
       "Name            object\n",
       "Sex             object\n",
       "Age            float64\n",
       "SibSp            int64\n",
       "Parch            int64\n",
       "Ticket          object\n",
       "Fare           float64\n",
       "Cabin           object\n",
       "Embarked        object\n",
       "dtype: object"
      ]
     },
     "execution_count": 7,
     "metadata": {},
     "output_type": "execute_result"
    }
   ],
   "source": [
    "train_set.dtypes"
   ]
  },
  {
   "cell_type": "code",
   "execution_count": 8,
   "id": "9339f36c",
   "metadata": {},
   "outputs": [
    {
     "name": "stdout",
     "output_type": "stream",
     "text": [
      "The number of survived people is 342 \n",
      "The number of unsurvived people is 549\n"
     ]
    }
   ],
   "source": [
    "survivedpass= train_set[train_set['Survived']==1]\n",
    "survived = survivedpass['Survived'].count()\n",
    "\n",
    "deadpa= train_set[train_set['Survived']==0]\n",
    "dead= deadpa[\"Survived\"].count()\n",
    "print(f'The number of survived people is {survived} \\nThe number of unsurvived people is {dead}')"
   ]
  },
  {
   "cell_type": "code",
   "execution_count": 9,
   "id": "00ada373",
   "metadata": {},
   "outputs": [],
   "source": [
    "import matplotlib.pyplot as plt"
   ]
  },
  {
   "cell_type": "code",
   "execution_count": 10,
   "id": "9decd6dd",
   "metadata": {},
   "outputs": [
    {
     "data": {
      "text/plain": [
       "Text(0.5, 1.0, 'surviving/non-surviving passengers')"
      ]
     },
     "execution_count": 10,
     "metadata": {},
     "output_type": "execute_result"
    },
    {
     "data": {
      "image/png": "[encoded data removed]",
      "text/plain": [
       "<Figure size 432x288 with 1 Axes>"
      ]
     },
     "metadata": {
      "needs_background": "light"
     },
     "output_type": "display_data"
    }
   ],
   "source": [
    "\n",
    "plt.bar('survived' ,len(survivedpass['Survived']) , width= 0.4, color='steelblue')\n",
    "plt.bar( 'dead' ,len(deadpa[\"Survived\"]), width= 0.4 ,color='lavender')\n",
    "\n",
    "plt.title('surviving/non-surviving passengers')"
   ]
  },
  {
   "cell_type": "code",
   "execution_count": 11,
   "id": "d0166264",
   "metadata": {},
   "outputs": [],
   "source": [
    "survived_pclass = train_set[['Survived', 'Pclass']]         \n",
    "\n"
   ]
  },
  {
   "cell_type": "code",
   "execution_count": 12,
   "id": "f07f405b",
   "metadata": {},
   "outputs": [
    {
     "data": {
      "text/html": [
       "<div>\n",
       "<style scoped>\n",
       "    .dataframe tbody tr th:only-of-type {\n",
       "        vertical-align: middle;\n",
       "    }\n",
       "\n",
       "    .dataframe tbody tr th {\n",
       "        vertical-align: top;\n",
       "    }\n",
       "\n",
       "    .dataframe thead th {\n",
       "        text-align: right;\n",
       "    }\n",
       "</style>\n",
       "<table border=\"1\" class=\"dataframe\">\n",
       "  <thead>\n",
       "    <tr style=\"text-align: right;\">\n",
       "      <th></th>\n",
       "      <th>Survived</th>\n",
       "      <th>Total</th>\n",
       "    </tr>\n",
       "    <tr>\n",
       "      <th>Pclass</th>\n",
       "      <th></th>\n",
       "      <th></th>\n",
       "    </tr>\n",
       "  </thead>\n",
       "  <tbody>\n",
       "    <tr>\n",
       "      <th>1</th>\n",
       "      <td>136</td>\n",
       "      <td>216</td>\n",
       "    </tr>\n",
       "    <tr>\n",
       "      <th>2</th>\n",
       "      <td>87</td>\n",
       "      <td>184</td>\n",
       "    </tr>\n",
       "    <tr>\n",
       "      <th>3</th>\n",
       "      <td>119</td>\n",
       "      <td>491</td>\n",
       "    </tr>\n",
       "  </tbody>\n",
       "</table>\n",
       "</div>"
      ],
      "text/plain": [
       "        Survived  Total\n",
       "Pclass                 \n",
       "1            136    216\n",
       "2             87    184\n",
       "3            119    491"
      ]
     },
     "execution_count": 12,
     "metadata": {},
     "output_type": "execute_result"
    }
   ],
   "source": [
    "\n",
    "survived_pclassdf = survived_pclass.groupby(['Pclass']).sum()\n",
    "total_pclassdf = survived_pclass.groupby(['Pclass']).count()\n",
    "\n",
    "\n",
    "total_pclassdf.rename(columns = {'Survived':'Total'}, inplace = True)\n",
    "\n",
    "# merge separate data into one dataframe\n",
    "total_survived_pclass = pd.merge(survived_pclassdf, total_pclassdf, left_index=True, right_index=True) \n",
    "total_survived_pclass"
   ]
  },
  {
   "cell_type": "code",
   "execution_count": 13,
   "id": "9c05b071",
   "metadata": {},
   "outputs": [
    {
     "data": {
      "text/html": [
       "<div>\n",
       "<style scoped>\n",
       "    .dataframe tbody tr th:only-of-type {\n",
       "        vertical-align: middle;\n",
       "    }\n",
       "\n",
       "    .dataframe tbody tr th {\n",
       "        vertical-align: top;\n",
       "    }\n",
       "\n",
       "    .dataframe thead th {\n",
       "        text-align: right;\n",
       "    }\n",
       "</style>\n",
       "<table border=\"1\" class=\"dataframe\">\n",
       "  <thead>\n",
       "    <tr style=\"text-align: right;\">\n",
       "      <th></th>\n",
       "      <th>Survived</th>\n",
       "      <th>Total</th>\n",
       "      <th>proportion</th>\n",
       "    </tr>\n",
       "    <tr>\n",
       "      <th>Pclass</th>\n",
       "      <th></th>\n",
       "      <th></th>\n",
       "      <th></th>\n",
       "    </tr>\n",
       "  </thead>\n",
       "  <tbody>\n",
       "    <tr>\n",
       "      <th>1</th>\n",
       "      <td>136</td>\n",
       "      <td>216</td>\n",
       "      <td>0.629630</td>\n",
       "    </tr>\n",
       "    <tr>\n",
       "      <th>2</th>\n",
       "      <td>87</td>\n",
       "      <td>184</td>\n",
       "      <td>0.472826</td>\n",
       "    </tr>\n",
       "    <tr>\n",
       "      <th>3</th>\n",
       "      <td>119</td>\n",
       "      <td>491</td>\n",
       "      <td>0.242363</td>\n",
       "    </tr>\n",
       "  </tbody>\n",
       "</table>\n",
       "</div>"
      ],
      "text/plain": [
       "        Survived  Total  proportion\n",
       "Pclass                             \n",
       "1            136    216    0.629630\n",
       "2             87    184    0.472826\n",
       "3            119    491    0.242363"
      ]
     },
     "execution_count": 13,
     "metadata": {},
     "output_type": "execute_result"
    }
   ],
   "source": [
    "proportion_survived = (total_survived_pclass['Survived'] / total_survived_pclass['Total']) \n",
    "total_survived_pclass['proportion'] = proportion_survived\n",
    "\n",
    "total_survived_pclass"
   ]
  },
  {
   "cell_type": "code",
   "execution_count": 14,
   "id": "5cef8ef5",
   "metadata": {},
   "outputs": [
    {
     "data": {
      "text/plain": [
       "<matplotlib.legend.Legend at 0x1e1ff5d8160>"
      ]
     },
     "execution_count": 14,
     "metadata": {},
     "output_type": "execute_result"
    },
    {
     "data": {
      "image/png": "[encoded data removed]",
      "text/plain": [
       "<Figure size 432x288 with 1 Axes>"
      ]
     },
     "metadata": {
      "needs_background": "light"
     },
     "output_type": "display_data"
    }
   ],
   "source": [
    "plt.bar(total_survived_pclass.index.values,total_survived_pclass['Total'],width= 0.40, label='Died')\n",
    "\n",
    "plt.bar(total_survived_pclass.index.values,total_survived_pclass['Survived'],width= 0.40,label='Survived')\n",
    "\n",
    "\n",
    "plt.xticks(total_survived_pclass.index.values) \n",
    "plt.title('surviving/non-surviving passengers by class')\n",
    "plt.xlabel('Pclass')\n",
    "plt.ylabel('Passengers')\n",
    "plt.legend()"
   ]
  },
  {
   "cell_type": "code",
   "execution_count": 15,
   "id": "24443604",
   "metadata": {},
   "outputs": [],
   "source": [
    "def sex_pclass(sex,pclass):\n",
    "    gender_class=train_set[(train_set['Sex'] == sex) & (train_set['Pclass'] == pclass)]\n",
    "    print(f\"{sex} {pclass} class: {len(gender_class)} \\n\")"
   ]
  },
  {
   "cell_type": "code",
   "execution_count": 16,
   "id": "a568ab4c",
   "metadata": {},
   "outputs": [
    {
     "name": "stdout",
     "output_type": "stream",
     "text": [
      "female 1 class: 94 \n",
      "\n",
      "female 2 class: 76 \n",
      "\n",
      "female 3 class: 144 \n",
      "\n",
      "male 1 class: 122 \n",
      "\n",
      "male 2 class: 108 \n",
      "\n",
      "male 3 class: 347 \n",
      "\n"
     ]
    }
   ],
   "source": [
    "sex_list= ['female','male']\n",
    "pclass_list= [1,2,3]\n",
    "for s in sex_list:\n",
    "    for c in pclass_list:\n",
    "        sex_pclass(s,c)\n",
    "\n",
    "#firtclass_f= sex_pclass('female',1)\n",
    "#firstclass_m= sex_pclass('male',1)\n",
    "#secondclass_f= sex_pclass('female',2)\n",
    "#secondclass_m= sex_pclass('male',2)\n",
    "#thirdclass_f= sex_pclass('female',3)\n",
    "#thirdclass_m= sex_pclass('male',3)"
   ]
  },
  {
   "cell_type": "code",
   "execution_count": 17,
   "id": "6a2cc982",
   "metadata": {},
   "outputs": [],
   "source": [
    "import seaborn as sns"
   ]
  },
  {
   "cell_type": "code",
   "execution_count": 18,
   "id": "d5bb51de",
   "metadata": {},
   "outputs": [
    {
     "data": {
      "text/plain": [
       "<AxesSubplot:xlabel='Pclass', ylabel='count'>"
      ]
     },
     "execution_count": 18,
     "metadata": {},
     "output_type": "execute_result"
    },
    {
     "data": {
      "image/png": "[encoded data removed]",
      "text/plain": [
       "<Figure size 432x288 with 1 Axes>"
      ]
     },
     "metadata": {
      "needs_background": "light"
     },
     "output_type": "display_data"
    }
   ],
   "source": [
    "#grouped_sex_pclass = train_set.groupby(['Sex', 'Pclass'])['Pclass'].count()\n",
    "\n",
    "#https://seaborn.pydata.org/generated/seaborn.countplot.html\n",
    "sns.countplot(x=\"Pclass\", hue=\"Sex\", data=train_set, palette=\"Set2\")"
   ]
  },
  {
   "cell_type": "code",
   "execution_count": 19,
   "id": "c022bbe0",
   "metadata": {},
   "outputs": [
    {
     "data": {
      "image/png": "[encoded data removed]",
      "text/plain": [
       "<Figure size 432x288 with 1 Axes>"
      ]
     },
     "metadata": {
      "needs_background": "light"
     },
     "output_type": "display_data"
    }
   ],
   "source": [
    "\n",
    "\n",
    "plt.hist([survivedpass['Age'],deadpa['Age']],\n",
    "         bins=20,label=['Survived', 'Drowned'])\n",
    "\n",
    "plt.xlabel('Age')\n",
    "plt.ylabel('passengers')\n",
    "plt.title('the age distribution of passengers')\n",
    "plt.legend()\n",
    "plt.show()\n"
   ]
  },
  {
   "cell_type": "code",
   "execution_count": 20,
   "id": "25003c1c",
   "metadata": {},
   "outputs": [
    {
     "data": {
      "text/plain": [
       "<AxesSubplot:xlabel='Pclass', ylabel='Age'>"
      ]
     },
     "execution_count": 20,
     "metadata": {},
     "output_type": "execute_result"
    },
    {
     "data": {
      "image/png": "[encoded data removed]",
      "text/plain": [
       "<Figure size 864x504 with 1 Axes>"
      ]
     },
     "metadata": {
      "needs_background": "light"
     },
     "output_type": "display_data"
    }
   ],
   "source": [
    "plt.figure(figsize=(12, 7))\n",
    "sns.boxplot(x='Pclass',y='Age',data=train_set,palette='Set2')"
   ]
  },
  {
   "cell_type": "code",
   "execution_count": 21,
   "id": "8678a7f6",
   "metadata": {},
   "outputs": [
    {
     "name": "stdout",
     "output_type": "stream",
     "text": [
      "the average age for survived passengers : 28.343689655172415\n",
      "the average age for drowned passengers : 30.62617924528302 \n"
     ]
    }
   ],
   "source": [
    "\n",
    "\n",
    "averg_survivedage= survivedpass['Age'].mean()\n",
    "\n",
    "avrege_drowedage= deadpa['Age'].mean()\n",
    "\n",
    "\n",
    "print(f'the average age for survived passengers : {averg_survivedage}\\n'\n",
    "      f'the average age for drowned passengers : {avrege_drowedage} ')\n"
   ]
  },
  {
   "cell_type": "markdown",
   "id": "6728d893",
   "metadata": {},
   "source": [
    "## Handling the missing values:"
   ]
  },
  {
   "cell_type": "code",
   "execution_count": 22,
   "id": "efc4c374",
   "metadata": {},
   "outputs": [
    {
     "data": {
      "text/plain": [
       "PassengerId      0\n",
       "Survived         0\n",
       "Pclass           0\n",
       "Name             0\n",
       "Sex              0\n",
       "Age            177\n",
       "SibSp            0\n",
       "Parch            0\n",
       "Ticket           0\n",
       "Fare             0\n",
       "Cabin          687\n",
       "Embarked         2\n",
       "dtype: int64"
      ]
     },
     "execution_count": 22,
     "metadata": {},
     "output_type": "execute_result"
    }
   ],
   "source": [
    "train_set.isnull().sum()"
   ]
  },
  {
   "cell_type": "code",
   "execution_count": 23,
   "id": "2990d6fc",
   "metadata": {},
   "outputs": [],
   "source": [
    "train_set = train_set.drop(columns='Cabin', axis=1)"
   ]
  },
  {
   "cell_type": "code",
   "execution_count": 24,
   "id": "a8bc2f3d",
   "metadata": {
    "scrolled": true
   },
   "outputs": [],
   "source": [
    "#Replace missing age values by the mean age\n",
    "\n",
    "train_set['Age'].fillna(train_set['Age'].mean(),inplace = True)"
   ]
  },
  {
   "cell_type": "code",
   "execution_count": 25,
   "id": "d1e8296a",
   "metadata": {},
   "outputs": [],
   "source": [
    "train_set['Embarked'].fillna(train_set['Embarked'].mode()[0], inplace=True)"
   ]
  },
  {
   "cell_type": "code",
   "execution_count": 26,
   "id": "bcbcb085",
   "metadata": {},
   "outputs": [
    {
     "data": {
      "text/plain": [
       "PassengerId    0\n",
       "Survived       0\n",
       "Pclass         0\n",
       "Name           0\n",
       "Sex            0\n",
       "Age            0\n",
       "SibSp          0\n",
       "Parch          0\n",
       "Ticket         0\n",
       "Fare           0\n",
       "Embarked       0\n",
       "dtype: int64"
      ]
     },
     "execution_count": 26,
     "metadata": {},
     "output_type": "execute_result"
    }
   ],
   "source": [
    "train_set.isnull().sum()"
   ]
  },
  {
   "cell_type": "code",
   "execution_count": 27,
   "id": "8b8af36b",
   "metadata": {
    "scrolled": true
   },
   "outputs": [
    {
     "data": {
      "text/html": [
       "<div>\n",
       "<style scoped>\n",
       "    .dataframe tbody tr th:only-of-type {\n",
       "        vertical-align: middle;\n",
       "    }\n",
       "\n",
       "    .dataframe tbody tr th {\n",
       "        vertical-align: top;\n",
       "    }\n",
       "\n",
       "    .dataframe thead th {\n",
       "        text-align: right;\n",
       "    }\n",
       "</style>\n",
       "<table border=\"1\" class=\"dataframe\">\n",
       "  <thead>\n",
       "    <tr style=\"text-align: right;\">\n",
       "      <th></th>\n",
       "      <th></th>\n",
       "      <th>Drowned</th>\n",
       "      <th>Survived</th>\n",
       "    </tr>\n",
       "    <tr>\n",
       "      <th>Pclass</th>\n",
       "      <th>Sex</th>\n",
       "      <th></th>\n",
       "      <th></th>\n",
       "    </tr>\n",
       "  </thead>\n",
       "  <tbody>\n",
       "    <tr>\n",
       "      <th rowspan=\"2\" valign=\"top\">1</th>\n",
       "      <th>female</th>\n",
       "      <td>3</td>\n",
       "      <td>91</td>\n",
       "    </tr>\n",
       "    <tr>\n",
       "      <th>male</th>\n",
       "      <td>77</td>\n",
       "      <td>45</td>\n",
       "    </tr>\n",
       "    <tr>\n",
       "      <th rowspan=\"2\" valign=\"top\">2</th>\n",
       "      <th>female</th>\n",
       "      <td>6</td>\n",
       "      <td>70</td>\n",
       "    </tr>\n",
       "    <tr>\n",
       "      <th>male</th>\n",
       "      <td>91</td>\n",
       "      <td>17</td>\n",
       "    </tr>\n",
       "    <tr>\n",
       "      <th rowspan=\"2\" valign=\"top\">3</th>\n",
       "      <th>female</th>\n",
       "      <td>72</td>\n",
       "      <td>72</td>\n",
       "    </tr>\n",
       "    <tr>\n",
       "      <th>male</th>\n",
       "      <td>300</td>\n",
       "      <td>47</td>\n",
       "    </tr>\n",
       "  </tbody>\n",
       "</table>\n",
       "</div>"
      ],
      "text/plain": [
       "               Drowned  Survived\n",
       "Pclass Sex                      \n",
       "1      female        3        91\n",
       "       male         77        45\n",
       "2      female        6        70\n",
       "       male         91        17\n",
       "3      female       72        72\n",
       "       male        300        47"
      ]
     },
     "execution_count": 27,
     "metadata": {},
     "output_type": "execute_result"
    }
   ],
   "source": [
    "#https://pandas.pydata.org/docs/reference/api/pandas.crosstab.html\n",
    "\n",
    "count_table =pd.crosstab(index= [train_set['Pclass'],train_set['Sex']],\n",
    "                         columns=train_set['Survived'], colnames=' ')\n",
    "count_table= count_table.rename(columns={0: 'Drowned', 1: 'Survived'})\n",
    "\n",
    "count_table"
   ]
  },
  {
   "cell_type": "code",
   "execution_count": 28,
   "id": "a3607e37",
   "metadata": {},
   "outputs": [
    {
     "data": {
      "text/plain": [
       "Index(['PassengerId', 'Survived', 'Pclass', 'Name', 'Sex', 'Age', 'SibSp',\n",
       "       'Parch', 'Ticket', 'Fare', 'Embarked'],\n",
       "      dtype='object')"
      ]
     },
     "execution_count": 28,
     "metadata": {},
     "output_type": "execute_result"
    }
   ],
   "source": [
    "train_set.columns"
   ]
  },
  {
   "cell_type": "code",
   "execution_count": 29,
   "id": "075cb4c7",
   "metadata": {},
   "outputs": [
    {
     "data": {
      "image/png": "[encoded data removed]",
      "text/plain": [
       "<Figure size 864x432 with 1 Axes>"
      ]
     },
     "metadata": {
      "needs_background": "light"
     },
     "output_type": "display_data"
    },
    {
     "data": {
      "image/png": "[encoded data removed]",
      "text/plain": [
       "<Figure size 864x432 with 1 Axes>"
      ]
     },
     "metadata": {
      "needs_background": "light"
     },
     "output_type": "display_data"
    },
    {
     "data": {
      "image/png": "[encoded data removed]",
      "text/plain": [
       "<Figure size 864x432 with 1 Axes>"
      ]
     },
     "metadata": {
      "needs_background": "light"
     },
     "output_type": "display_data"
    },
    {
     "data": {
      "image/png": "[encoded data removed]",
      "text/plain": [
       "<Figure size 864x432 with 1 Axes>"
      ]
     },
     "metadata": {
      "needs_background": "light"
     },
     "output_type": "display_data"
    },
    {
     "data": {
      "image/png": "[encoded data removed]",
      "text/plain": [
       "<Figure size 864x432 with 1 Axes>"
      ]
     },
     "metadata": {
      "needs_background": "light"
     },
     "output_type": "display_data"
    }
   ],
   "source": [
    "feature = [ 'Pclass',  'Sex','Age','Fare','Embarked']\n",
    "\n",
    "for f in feature:\n",
    "    plt.figure(figsize=(12,6))\n",
    "    sns.countplot(x= f , data = train_set , palette= 'Set2',hue = 'Survived')\n",
    "    #if f=='Age':\n",
    "        #ax.set_xticks([2, 4, 6, 8, 10])\n",
    "        #plt.xticks(np.arange(min(train_set['Age']), max(train_set['Age'])+1, 10))\n",
    "        #plt.axes().set_xticks(np.arange(min(train_set['Age']), max(train_set['Age'])+1, 10))\n",
    "    plt.show()"
   ]
  },
  {
   "cell_type": "markdown",
   "id": "4e684a23",
   "metadata": {},
   "source": [
    "# feature engineering techniques"
   ]
  },
  {
   "cell_type": "code",
   "execution_count": 30,
   "id": "b31ee90b",
   "metadata": {},
   "outputs": [],
   "source": [
    "from sklearn.linear_model import LogisticRegression\n",
    "from sklearn.model_selection import train_test_split\n",
    "from sklearn.pipeline import make_pipeline\n",
    "from sklearn.preprocessing import MinMaxScaler, OneHotEncoder, KBinsDiscretizer , StandardScaler\n",
    "from sklearn.impute import SimpleImputer\n",
    "from sklearn.compose import ColumnTransformer\n",
    "from sklearn.model_selection import cross_val_score\n"
   ]
  },
  {
   "cell_type": "code",
   "execution_count": 31,
   "id": "ea7b54ff",
   "metadata": {},
   "outputs": [
    {
     "data": {
      "text/plain": [
       "((891, 5), (891,))"
      ]
     },
     "execution_count": 31,
     "metadata": {},
     "output_type": "execute_result"
    }
   ],
   "source": [
    "X= train_set[feature]\n",
    "y= train_set['Survived']\n",
    "\n",
    "X.shape, y.shape\n",
    "\n"
   ]
  },
  {
   "cell_type": "code",
   "execution_count": 32,
   "id": "a9a0d53e",
   "metadata": {},
   "outputs": [],
   "source": [
    "#train_set['CatAge'] = pd.qcut(train_set.Age, q=4, labels=False )\n",
    "#train_set"
   ]
  },
  {
   "cell_type": "code",
   "execution_count": 33,
   "id": "f9503aa9",
   "metadata": {},
   "outputs": [
    {
     "data": {
      "text/plain": [
       "((712, 5), (712,), (179, 5), (179,))"
      ]
     },
     "execution_count": 33,
     "metadata": {},
     "output_type": "execute_result"
    }
   ],
   "source": [
    "# splitting data in train and test sets\n",
    "X_train, X_test, y_train, y_test = train_test_split(X, y, test_size=0.20,random_state=55)\n",
    "\n",
    "X_train.shape, y_train.shape, X_test.shape, y_test.shape"
   ]
  },
  {
   "cell_type": "code",
   "execution_count": 34,
   "id": "9777edf0",
   "metadata": {},
   "outputs": [
    {
     "data": {
      "text/html": [
       "<div>\n",
       "<style scoped>\n",
       "    .dataframe tbody tr th:only-of-type {\n",
       "        vertical-align: middle;\n",
       "    }\n",
       "\n",
       "    .dataframe tbody tr th {\n",
       "        vertical-align: top;\n",
       "    }\n",
       "\n",
       "    .dataframe thead th {\n",
       "        text-align: right;\n",
       "    }\n",
       "</style>\n",
       "<table border=\"1\" class=\"dataframe\">\n",
       "  <thead>\n",
       "    <tr style=\"text-align: right;\">\n",
       "      <th></th>\n",
       "      <th>Pclass</th>\n",
       "      <th>Sex</th>\n",
       "      <th>Age</th>\n",
       "      <th>Fare</th>\n",
       "      <th>Embarked</th>\n",
       "    </tr>\n",
       "  </thead>\n",
       "  <tbody>\n",
       "    <tr>\n",
       "      <th>314</th>\n",
       "      <td>2</td>\n",
       "      <td>male</td>\n",
       "      <td>43.0</td>\n",
       "      <td>26.2500</td>\n",
       "      <td>S</td>\n",
       "    </tr>\n",
       "    <tr>\n",
       "      <th>218</th>\n",
       "      <td>1</td>\n",
       "      <td>female</td>\n",
       "      <td>32.0</td>\n",
       "      <td>76.2917</td>\n",
       "      <td>C</td>\n",
       "    </tr>\n",
       "    <tr>\n",
       "      <th>156</th>\n",
       "      <td>3</td>\n",
       "      <td>female</td>\n",
       "      <td>16.0</td>\n",
       "      <td>7.7333</td>\n",
       "      <td>Q</td>\n",
       "    </tr>\n",
       "    <tr>\n",
       "      <th>662</th>\n",
       "      <td>1</td>\n",
       "      <td>male</td>\n",
       "      <td>47.0</td>\n",
       "      <td>25.5875</td>\n",
       "      <td>S</td>\n",
       "    </tr>\n",
       "    <tr>\n",
       "      <th>447</th>\n",
       "      <td>1</td>\n",
       "      <td>male</td>\n",
       "      <td>34.0</td>\n",
       "      <td>26.5500</td>\n",
       "      <td>S</td>\n",
       "    </tr>\n",
       "  </tbody>\n",
       "</table>\n",
       "</div>"
      ],
      "text/plain": [
       "     Pclass     Sex   Age     Fare Embarked\n",
       "314       2    male  43.0  26.2500        S\n",
       "218       1  female  32.0  76.2917        C\n",
       "156       3  female  16.0   7.7333        Q\n",
       "662       1    male  47.0  25.5875        S\n",
       "447       1    male  34.0  26.5500        S"
      ]
     },
     "execution_count": 34,
     "metadata": {},
     "output_type": "execute_result"
    }
   ],
   "source": [
    "X_train.head()"
   ]
  },
  {
   "cell_type": "code",
   "execution_count": 35,
   "id": "88225d3d",
   "metadata": {},
   "outputs": [
    {
     "name": "stdout",
     "output_type": "stream",
     "text": [
      "<class 'pandas.core.frame.DataFrame'>\n",
      "Int64Index: 712 entries, 314 to 461\n",
      "Data columns (total 5 columns):\n",
      " #   Column    Non-Null Count  Dtype  \n",
      "---  ------    --------------  -----  \n",
      " 0   Pclass    712 non-null    int64  \n",
      " 1   Sex       712 non-null    object \n",
      " 2   Age       712 non-null    float64\n",
      " 3   Fare      712 non-null    float64\n",
      " 4   Embarked  712 non-null    object \n",
      "dtypes: float64(2), int64(1), object(2)\n",
      "memory usage: 33.4+ KB\n"
     ]
    }
   ],
   "source": [
    "X_train.info()"
   ]
  },
  {
   "cell_type": "code",
   "execution_count": 79,
   "id": "72b1b986",
   "metadata": {},
   "outputs": [
    {
     "data": {
      "text/plain": [
       "314    0\n",
       "218    1\n",
       "156    1\n",
       "662    0\n",
       "447    1\n",
       "      ..\n",
       "823    1\n",
       "541    0\n",
       "295    0\n",
       "666    0\n",
       "461    0\n",
       "Name: Survived, Length: 712, dtype: int64"
      ]
     },
     "execution_count": 79,
     "metadata": {},
     "output_type": "execute_result"
    }
   ],
   "source": [
    "y_train"
   ]
  },
  {
   "cell_type": "code",
   "execution_count": 77,
   "id": "3684dc67",
   "metadata": {},
   "outputs": [
    {
     "data": {
      "text/plain": [
       "713    0\n",
       "726    1\n",
       "262    0\n",
       "266    0\n",
       "186    1\n",
       "      ..\n",
       "151    1\n",
       "631    0\n",
       "723    0\n",
       "61     1\n",
       "192    1\n",
       "Name: Survived, Length: 179, dtype: int64"
      ]
     },
     "execution_count": 77,
     "metadata": {},
     "output_type": "execute_result"
    }
   ],
   "source": [
    "y_test"
   ]
  },
  {
   "cell_type": "code",
   "execution_count": 38,
   "id": "e3e73542",
   "metadata": {},
   "outputs": [],
   "source": [
    "ohe_pip = make_pipeline(SimpleImputer(strategy = 'most_frequent') ,OneHotEncoder(drop='first')) #embarked\n",
    "bin_pip = make_pipeline(SimpleImputer(strategy='mean'),KBinsDiscretizer(n_bins=3, encode='ordinal', strategy='uniform')) #age\n"
   ]
  },
  {
   "cell_type": "code",
   "execution_count": 39,
   "id": "08f82626",
   "metadata": {},
   "outputs": [],
   "source": [
    "#ohe = OneHotEncoder(drop='first')"
   ]
  },
  {
   "cell_type": "code",
   "execution_count": 40,
   "id": "f9e62fbf",
   "metadata": {},
   "outputs": [],
   "source": [
    "#scaler = StandardScaler()"
   ]
  },
  {
   "cell_type": "code",
   "execution_count": 41,
   "id": "7ec10e19",
   "metadata": {},
   "outputs": [],
   "source": [
    "#('age_bin_train', KBinsDiscretizer(n_bins=3, encode='ordinal', strategy='uniform') , ['Age'])\n",
    "alltrans = ColumnTransformer([('age_bin_train',bin_pip , ['Age']),\n",
    "    ('embarked_ohe_train', ohe_pip, ['Embarked']),\n",
    "    ('ohe_pclass', OneHotEncoder(drop='first'),['Pclass']),\n",
    "    ('sex_ohe_train', OneHotEncoder(drop='first'), ['Sex']),\n",
    "    ('fare_scaled_train', StandardScaler(), ['Fare'])\n",
    "],remainder='passthrough')"
   ]
  },
  {
   "cell_type": "code",
   "execution_count": 42,
   "id": "3021552d",
   "metadata": {},
   "outputs": [],
   "source": [
    "#X_train_fit.get_feature_names_out()"
   ]
  },
  {
   "cell_type": "code",
   "execution_count": 43,
   "id": "6e671f0b",
   "metadata": {},
   "outputs": [
    {
     "data": {
      "text/html": [
       "<div>\n",
       "<style scoped>\n",
       "    .dataframe tbody tr th:only-of-type {\n",
       "        vertical-align: middle;\n",
       "    }\n",
       "\n",
       "    .dataframe tbody tr th {\n",
       "        vertical-align: top;\n",
       "    }\n",
       "\n",
       "    .dataframe thead th {\n",
       "        text-align: right;\n",
       "    }\n",
       "</style>\n",
       "<table border=\"1\" class=\"dataframe\">\n",
       "  <thead>\n",
       "    <tr style=\"text-align: right;\">\n",
       "      <th></th>\n",
       "      <th>age_bin_train</th>\n",
       "      <th>embarked_ohe_train Q</th>\n",
       "      <th>embarked_ohe_train S</th>\n",
       "      <th>ohe_pclass 2</th>\n",
       "      <th>ohe_pclass 3</th>\n",
       "      <th>Sex_male</th>\n",
       "      <th>fare_scaled_train</th>\n",
       "    </tr>\n",
       "  </thead>\n",
       "  <tbody>\n",
       "    <tr>\n",
       "      <th>0</th>\n",
       "      <td>1.0</td>\n",
       "      <td>0.0</td>\n",
       "      <td>1.0</td>\n",
       "      <td>1.0</td>\n",
       "      <td>0.0</td>\n",
       "      <td>1.0</td>\n",
       "      <td>-0.122946</td>\n",
       "    </tr>\n",
       "    <tr>\n",
       "      <th>1</th>\n",
       "      <td>1.0</td>\n",
       "      <td>0.0</td>\n",
       "      <td>0.0</td>\n",
       "      <td>0.0</td>\n",
       "      <td>0.0</td>\n",
       "      <td>0.0</td>\n",
       "      <td>0.913876</td>\n",
       "    </tr>\n",
       "    <tr>\n",
       "      <th>2</th>\n",
       "      <td>0.0</td>\n",
       "      <td>1.0</td>\n",
       "      <td>0.0</td>\n",
       "      <td>0.0</td>\n",
       "      <td>1.0</td>\n",
       "      <td>0.0</td>\n",
       "      <td>-0.506597</td>\n",
       "    </tr>\n",
       "    <tr>\n",
       "      <th>3</th>\n",
       "      <td>1.0</td>\n",
       "      <td>0.0</td>\n",
       "      <td>1.0</td>\n",
       "      <td>0.0</td>\n",
       "      <td>0.0</td>\n",
       "      <td>1.0</td>\n",
       "      <td>-0.136673</td>\n",
       "    </tr>\n",
       "    <tr>\n",
       "      <th>4</th>\n",
       "      <td>1.0</td>\n",
       "      <td>0.0</td>\n",
       "      <td>1.0</td>\n",
       "      <td>0.0</td>\n",
       "      <td>0.0</td>\n",
       "      <td>1.0</td>\n",
       "      <td>-0.116730</td>\n",
       "    </tr>\n",
       "    <tr>\n",
       "      <th>...</th>\n",
       "      <td>...</td>\n",
       "      <td>...</td>\n",
       "      <td>...</td>\n",
       "      <td>...</td>\n",
       "      <td>...</td>\n",
       "      <td>...</td>\n",
       "      <td>...</td>\n",
       "    </tr>\n",
       "    <tr>\n",
       "      <th>707</th>\n",
       "      <td>0.0</td>\n",
       "      <td>0.0</td>\n",
       "      <td>1.0</td>\n",
       "      <td>0.0</td>\n",
       "      <td>1.0</td>\n",
       "      <td>0.0</td>\n",
       "      <td>-0.408353</td>\n",
       "    </tr>\n",
       "    <tr>\n",
       "      <th>708</th>\n",
       "      <td>0.0</td>\n",
       "      <td>0.0</td>\n",
       "      <td>1.0</td>\n",
       "      <td>0.0</td>\n",
       "      <td>1.0</td>\n",
       "      <td>0.0</td>\n",
       "      <td>-0.018832</td>\n",
       "    </tr>\n",
       "    <tr>\n",
       "      <th>709</th>\n",
       "      <td>1.0</td>\n",
       "      <td>0.0</td>\n",
       "      <td>0.0</td>\n",
       "      <td>0.0</td>\n",
       "      <td>0.0</td>\n",
       "      <td>1.0</td>\n",
       "      <td>-0.092472</td>\n",
       "    </tr>\n",
       "    <tr>\n",
       "      <th>710</th>\n",
       "      <td>0.0</td>\n",
       "      <td>0.0</td>\n",
       "      <td>1.0</td>\n",
       "      <td>1.0</td>\n",
       "      <td>0.0</td>\n",
       "      <td>1.0</td>\n",
       "      <td>-0.397475</td>\n",
       "    </tr>\n",
       "    <tr>\n",
       "      <th>711</th>\n",
       "      <td>1.0</td>\n",
       "      <td>0.0</td>\n",
       "      <td>1.0</td>\n",
       "      <td>0.0</td>\n",
       "      <td>1.0</td>\n",
       "      <td>1.0</td>\n",
       "      <td>-0.500035</td>\n",
       "    </tr>\n",
       "  </tbody>\n",
       "</table>\n",
       "<p>712 rows × 7 columns</p>\n",
       "</div>"
      ],
      "text/plain": [
       "     age_bin_train  embarked_ohe_train Q  embarked_ohe_train S  ohe_pclass 2  \\\n",
       "0              1.0                   0.0                   1.0           1.0   \n",
       "1              1.0                   0.0                   0.0           0.0   \n",
       "2              0.0                   1.0                   0.0           0.0   \n",
       "3              1.0                   0.0                   1.0           0.0   \n",
       "4              1.0                   0.0                   1.0           0.0   \n",
       "..             ...                   ...                   ...           ...   \n",
       "707            0.0                   0.0                   1.0           0.0   \n",
       "708            0.0                   0.0                   1.0           0.0   \n",
       "709            1.0                   0.0                   0.0           0.0   \n",
       "710            0.0                   0.0                   1.0           1.0   \n",
       "711            1.0                   0.0                   1.0           0.0   \n",
       "\n",
       "     ohe_pclass 3  Sex_male  fare_scaled_train  \n",
       "0             0.0       1.0          -0.122946  \n",
       "1             0.0       0.0           0.913876  \n",
       "2             1.0       0.0          -0.506597  \n",
       "3             0.0       1.0          -0.136673  \n",
       "4             0.0       1.0          -0.116730  \n",
       "..            ...       ...                ...  \n",
       "707           1.0       0.0          -0.408353  \n",
       "708           1.0       0.0          -0.018832  \n",
       "709           0.0       1.0          -0.092472  \n",
       "710           0.0       1.0          -0.397475  \n",
       "711           1.0       1.0          -0.500035  \n",
       "\n",
       "[712 rows x 7 columns]"
      ]
     },
     "execution_count": 43,
     "metadata": {},
     "output_type": "execute_result"
    }
   ],
   "source": [
    "X_train_fit = pd.DataFrame(alltrans.fit_transform(X_train),columns=['age_bin_train','embarked_ohe_train Q','embarked_ohe_train S','ohe_pclass 2','ohe_pclass 3','Sex_male','fare_scaled_train'])\n",
    "X_train_fit\n",
    "#get_feature_names_out()\n",
    "#, columns = alltrans.get_feature_names()"
   ]
  },
  {
   "cell_type": "code",
   "execution_count": 44,
   "id": "3eddfd5b",
   "metadata": {},
   "outputs": [
    {
     "data": {
      "text/plain": [
       "age_bin_train           0\n",
       "embarked_ohe_train Q    0\n",
       "embarked_ohe_train S    0\n",
       "ohe_pclass 2            0\n",
       "ohe_pclass 3            0\n",
       "Sex_male                0\n",
       "fare_scaled_train       0\n",
       "dtype: int64"
      ]
     },
     "execution_count": 44,
     "metadata": {},
     "output_type": "execute_result"
    }
   ],
   "source": [
    "X_train_fit.isnull().sum()"
   ]
  },
  {
   "cell_type": "code",
   "execution_count": 45,
   "id": "560feca9",
   "metadata": {},
   "outputs": [],
   "source": [
    "#alltrans.get_feature_names()"
   ]
  },
  {
   "cell_type": "code",
   "execution_count": 46,
   "id": "02e2e06a",
   "metadata": {},
   "outputs": [
    {
     "data": {
      "text/html": [
       "<div>\n",
       "<style scoped>\n",
       "    .dataframe tbody tr th:only-of-type {\n",
       "        vertical-align: middle;\n",
       "    }\n",
       "\n",
       "    .dataframe tbody tr th {\n",
       "        vertical-align: top;\n",
       "    }\n",
       "\n",
       "    .dataframe thead th {\n",
       "        text-align: right;\n",
       "    }\n",
       "</style>\n",
       "<table border=\"1\" class=\"dataframe\">\n",
       "  <thead>\n",
       "    <tr style=\"text-align: right;\">\n",
       "      <th></th>\n",
       "      <th>age_bin_train</th>\n",
       "      <th>embarked_ohe_train Q</th>\n",
       "      <th>embarked_ohe_train S</th>\n",
       "      <th>ohe_pclass 2</th>\n",
       "      <th>ohe_pclass 3</th>\n",
       "      <th>Sex_male</th>\n",
       "      <th>fare_scaled_train</th>\n",
       "    </tr>\n",
       "  </thead>\n",
       "  <tbody>\n",
       "    <tr>\n",
       "      <th>0</th>\n",
       "      <td>1.0</td>\n",
       "      <td>0.0</td>\n",
       "      <td>1.0</td>\n",
       "      <td>0.0</td>\n",
       "      <td>1.0</td>\n",
       "      <td>1.0</td>\n",
       "      <td>-0.415440</td>\n",
       "    </tr>\n",
       "    <tr>\n",
       "      <th>1</th>\n",
       "      <td>1.0</td>\n",
       "      <td>0.0</td>\n",
       "      <td>1.0</td>\n",
       "      <td>1.0</td>\n",
       "      <td>0.0</td>\n",
       "      <td>0.0</td>\n",
       "      <td>-0.205608</td>\n",
       "    </tr>\n",
       "    <tr>\n",
       "      <th>2</th>\n",
       "      <td>2.0</td>\n",
       "      <td>0.0</td>\n",
       "      <td>1.0</td>\n",
       "      <td>0.0</td>\n",
       "      <td>0.0</td>\n",
       "      <td>1.0</td>\n",
       "      <td>0.862982</td>\n",
       "    </tr>\n",
       "    <tr>\n",
       "      <th>3</th>\n",
       "      <td>0.0</td>\n",
       "      <td>0.0</td>\n",
       "      <td>1.0</td>\n",
       "      <td>0.0</td>\n",
       "      <td>1.0</td>\n",
       "      <td>1.0</td>\n",
       "      <td>0.134874</td>\n",
       "    </tr>\n",
       "    <tr>\n",
       "      <th>4</th>\n",
       "      <td>1.0</td>\n",
       "      <td>1.0</td>\n",
       "      <td>0.0</td>\n",
       "      <td>0.0</td>\n",
       "      <td>1.0</td>\n",
       "      <td>0.0</td>\n",
       "      <td>-0.305817</td>\n",
       "    </tr>\n",
       "    <tr>\n",
       "      <th>...</th>\n",
       "      <td>...</td>\n",
       "      <td>...</td>\n",
       "      <td>...</td>\n",
       "      <td>...</td>\n",
       "      <td>...</td>\n",
       "      <td>...</td>\n",
       "      <td>...</td>\n",
       "    </tr>\n",
       "    <tr>\n",
       "      <th>174</th>\n",
       "      <td>0.0</td>\n",
       "      <td>0.0</td>\n",
       "      <td>1.0</td>\n",
       "      <td>0.0</td>\n",
       "      <td>0.0</td>\n",
       "      <td>0.0</td>\n",
       "      <td>0.625214</td>\n",
       "    </tr>\n",
       "    <tr>\n",
       "      <th>175</th>\n",
       "      <td>2.0</td>\n",
       "      <td>0.0</td>\n",
       "      <td>1.0</td>\n",
       "      <td>0.0</td>\n",
       "      <td>1.0</td>\n",
       "      <td>1.0</td>\n",
       "      <td>-0.459697</td>\n",
       "    </tr>\n",
       "    <tr>\n",
       "      <th>176</th>\n",
       "      <td>2.0</td>\n",
       "      <td>0.0</td>\n",
       "      <td>1.0</td>\n",
       "      <td>1.0</td>\n",
       "      <td>0.0</td>\n",
       "      <td>1.0</td>\n",
       "      <td>-0.351366</td>\n",
       "    </tr>\n",
       "    <tr>\n",
       "      <th>177</th>\n",
       "      <td>1.0</td>\n",
       "      <td>0.0</td>\n",
       "      <td>1.0</td>\n",
       "      <td>0.0</td>\n",
       "      <td>0.0</td>\n",
       "      <td>0.0</td>\n",
       "      <td>0.869359</td>\n",
       "    </tr>\n",
       "    <tr>\n",
       "      <th>178</th>\n",
       "      <td>0.0</td>\n",
       "      <td>0.0</td>\n",
       "      <td>1.0</td>\n",
       "      <td>0.0</td>\n",
       "      <td>1.0</td>\n",
       "      <td>0.0</td>\n",
       "      <td>-0.445121</td>\n",
       "    </tr>\n",
       "  </tbody>\n",
       "</table>\n",
       "<p>179 rows × 7 columns</p>\n",
       "</div>"
      ],
      "text/plain": [
       "     age_bin_train  embarked_ohe_train Q  embarked_ohe_train S  ohe_pclass 2  \\\n",
       "0              1.0                   0.0                   1.0           0.0   \n",
       "1              1.0                   0.0                   1.0           1.0   \n",
       "2              2.0                   0.0                   1.0           0.0   \n",
       "3              0.0                   0.0                   1.0           0.0   \n",
       "4              1.0                   1.0                   0.0           0.0   \n",
       "..             ...                   ...                   ...           ...   \n",
       "174            0.0                   0.0                   1.0           0.0   \n",
       "175            2.0                   0.0                   1.0           0.0   \n",
       "176            2.0                   0.0                   1.0           1.0   \n",
       "177            1.0                   0.0                   1.0           0.0   \n",
       "178            0.0                   0.0                   1.0           0.0   \n",
       "\n",
       "     ohe_pclass 3  Sex_male  fare_scaled_train  \n",
       "0             1.0       1.0          -0.415440  \n",
       "1             0.0       0.0          -0.205608  \n",
       "2             0.0       1.0           0.862982  \n",
       "3             1.0       1.0           0.134874  \n",
       "4             1.0       0.0          -0.305817  \n",
       "..            ...       ...                ...  \n",
       "174           0.0       0.0           0.625214  \n",
       "175           1.0       1.0          -0.459697  \n",
       "176           0.0       1.0          -0.351366  \n",
       "177           0.0       0.0           0.869359  \n",
       "178           1.0       0.0          -0.445121  \n",
       "\n",
       "[179 rows x 7 columns]"
      ]
     },
     "execution_count": 46,
     "metadata": {},
     "output_type": "execute_result"
    }
   ],
   "source": [
    "\n",
    "X_test_fit = pd.DataFrame(alltrans.fit_transform(X_test),columns=['age_bin_train','embarked_ohe_train Q','embarked_ohe_train S','ohe_pclass 2','ohe_pclass 3','Sex_male','fare_scaled_train'])\n",
    "X_test_fit"
   ]
  },
  {
   "cell_type": "code",
   "execution_count": 47,
   "id": "1da40edf",
   "metadata": {},
   "outputs": [
    {
     "data": {
      "text/plain": [
       "0    439\n",
       "1    273\n",
       "Name: Survived, dtype: int64"
      ]
     },
     "execution_count": 47,
     "metadata": {},
     "output_type": "execute_result"
    }
   ],
   "source": [
    "y_train.value_counts()"
   ]
  },
  {
   "cell_type": "code",
   "execution_count": 48,
   "id": "5b6d7644",
   "metadata": {},
   "outputs": [
    {
     "data": {
      "text/plain": [
       "LogisticRegression(class_weight='balanced', random_state=55)"
      ]
     },
     "execution_count": 48,
     "metadata": {},
     "output_type": "execute_result"
    }
   ],
   "source": [
    "# SKLearn doc: https://scikit-learn.org/stable/modules/generated/sklearn.linear_model.LogisticRegression.html\n",
    "\n",
    "log_reg = LogisticRegression(class_weight='balanced',random_state=55)\n",
    "\n",
    "log_reg.fit(X_train_fit, y_train)"
   ]
  },
  {
   "cell_type": "code",
   "execution_count": 49,
   "id": "3ca90b3f",
   "metadata": {},
   "outputs": [
    {
     "name": "stdout",
     "output_type": "stream",
     "text": [
      "LogReg Model Intercept: [3.31168252]\n",
      "LogReg Model Feature Coefficient: [[-0.53971519 -0.19416496 -0.64009792 -0.5046128  -1.77456946 -2.4068154\n",
      "   0.10823357]]\n"
     ]
    }
   ],
   "source": [
    "w0 = log_reg.intercept_\n",
    "w1 = log_reg.coef_\n",
    "\n",
    "print(f'LogReg Model Intercept: {w0}\\nLogReg Model Feature Coefficient: {w1}')"
   ]
  },
  {
   "cell_type": "code",
   "execution_count": 50,
   "id": "3c29a5a5",
   "metadata": {},
   "outputs": [
    {
     "data": {
      "text/plain": [
       "array([[0.8903655 , 0.1096345 ],\n",
       "       [0.16728354, 0.83271646],\n",
       "       [0.67288387, 0.32711613],\n",
       "       [0.81685783, 0.18314217],\n",
       "       [0.31645027, 0.68354973],\n",
       "       [0.82600744, 0.17399256],\n",
       "       [0.8254979 , 0.1745021 ],\n",
       "       [0.83915645, 0.16084355],\n",
       "       [0.80916156, 0.19083844],\n",
       "       [0.89067071, 0.10932929],\n",
       "       [0.89083302, 0.10916698],\n",
       "       [0.55874442, 0.44125558],\n",
       "       [0.89036229, 0.10963771],\n",
       "       [0.2900742 , 0.7099258 ],\n",
       "       [0.83913537, 0.16086463],\n",
       "       [0.8906411 , 0.1093589 ],\n",
       "       [0.89067071, 0.10932929],\n",
       "       [0.41204197, 0.58795803],\n",
       "       [0.55847495, 0.44152505],\n",
       "       [0.79467834, 0.20532166],\n",
       "       [0.06494413, 0.93505587],\n",
       "       [0.31976535, 0.68023465],\n",
       "       [0.29859829, 0.70140171],\n",
       "       [0.89067071, 0.10932929],\n",
       "       [0.89067071, 0.10932929],\n",
       "       [0.69914385, 0.30085615],\n",
       "       [0.41047108, 0.58952892],\n",
       "       [0.53249274, 0.46750726],\n",
       "       [0.71486112, 0.28513888],\n",
       "       [0.79612247, 0.20387753],\n",
       "       [0.21508105, 0.78491895],\n",
       "       [0.68750948, 0.31249052],\n",
       "       [0.81932659, 0.18067341],\n",
       "       [0.38614955, 0.61385045],\n",
       "       [0.82615737, 0.17384263],\n",
       "       [0.29886165, 0.70113835],\n",
       "       [0.42336698, 0.57663302],\n",
       "       [0.42110594, 0.57889406],\n",
       "       [0.53704727, 0.46295273],\n",
       "       [0.04081715, 0.95918285],\n",
       "       [0.79532111, 0.20467889],\n",
       "       [0.8237714 , 0.1762286 ],\n",
       "       [0.66780695, 0.33219305],\n",
       "       [0.67122144, 0.32877856],\n",
       "       [0.06999034, 0.93000966],\n",
       "       [0.88875429, 0.11124571],\n",
       "       [0.55947562, 0.44052438],\n",
       "       [0.16949268, 0.83050732],\n",
       "       [0.81685783, 0.18314217],\n",
       "       [0.8907475 , 0.1092525 ],\n",
       "       [0.53955907, 0.46044093],\n",
       "       [0.16543754, 0.83456246],\n",
       "       [0.69914385, 0.30085615],\n",
       "       [0.89069391, 0.10930609],\n",
       "       [0.10678477, 0.89321523],\n",
       "       [0.81135448, 0.18864552],\n",
       "       [0.42332885, 0.57667115],\n",
       "       [0.41948435, 0.58051565],\n",
       "       [0.53955907, 0.46044093],\n",
       "       [0.0485326 , 0.9514674 ],\n",
       "       [0.39591372, 0.60408628],\n",
       "       [0.03403854, 0.96596146],\n",
       "       [0.16591456, 0.83408544],\n",
       "       [0.42249465, 0.57750535],\n",
       "       [0.31977252, 0.68022748],\n",
       "       [0.17018778, 0.82981222],\n",
       "       [0.8907371 , 0.1092629 ],\n",
       "       [0.41487346, 0.58512654],\n",
       "       [0.25818418, 0.74181582],\n",
       "       [0.69477066, 0.30522934],\n",
       "       [0.88098297, 0.11901703],\n",
       "       [0.06999034, 0.93000966],\n",
       "       [0.05622291, 0.94377709],\n",
       "       [0.02369269, 0.97630731],\n",
       "       [0.82228502, 0.17771498],\n",
       "       [0.80695301, 0.19304699],\n",
       "       [0.88941547, 0.11058453],\n",
       "       [0.71486112, 0.28513888],\n",
       "       [0.42329477, 0.57670523],\n",
       "       [0.29144668, 0.70855332],\n",
       "       [0.09750381, 0.90249619],\n",
       "       [0.71324551, 0.28675449],\n",
       "       [0.05181969, 0.94818031],\n",
       "       [0.42292977, 0.57707023],\n",
       "       [0.81841988, 0.18158012],\n",
       "       [0.69372418, 0.30627582],\n",
       "       [0.89058106, 0.10941894],\n",
       "       [0.82606292, 0.17393708],\n",
       "       [0.82417184, 0.17582816],\n",
       "       [0.89067071, 0.10932929],\n",
       "       [0.83474332, 0.16525668],\n",
       "       [0.81135448, 0.18864552],\n",
       "       [0.81135448, 0.18864552],\n",
       "       [0.89067071, 0.10932929],\n",
       "       [0.18426667, 0.81573333],\n",
       "       [0.69477066, 0.30522934],\n",
       "       [0.57115756, 0.42884244],\n",
       "       [0.31976535, 0.68023465],\n",
       "       [0.29002852, 0.70997148],\n",
       "       [0.89067071, 0.10932929],\n",
       "       [0.39393854, 0.60606146],\n",
       "       [0.82600744, 0.17399256],\n",
       "       [0.834988  , 0.165012  ],\n",
       "       [0.57107907, 0.42892093],\n",
       "       [0.89069391, 0.10930609],\n",
       "       [0.82606292, 0.17393708],\n",
       "       [0.05494238, 0.94505762],\n",
       "       [0.25808388, 0.74191612],\n",
       "       [0.1821335 , 0.8178665 ],\n",
       "       [0.38869625, 0.61130375],\n",
       "       [0.42329477, 0.57670523],\n",
       "       [0.93320655, 0.06679345],\n",
       "       [0.81115193, 0.18884807],\n",
       "       [0.54325359, 0.45674641],\n",
       "       [0.167696  , 0.832304  ],\n",
       "       [0.8906411 , 0.1093589 ],\n",
       "       [0.82474976, 0.17525024],\n",
       "       [0.81135322, 0.18864678],\n",
       "       [0.82623405, 0.17376595],\n",
       "       [0.88908531, 0.11091469],\n",
       "       [0.82600744, 0.17399256],\n",
       "       [0.08571933, 0.91428067],\n",
       "       [0.42323459, 0.57676541],\n",
       "       [0.69468721, 0.30531279],\n",
       "       [0.81929374, 0.18070626],\n",
       "       [0.83936927, 0.16063073],\n",
       "       [0.8782572 , 0.1217428 ],\n",
       "       [0.88764793, 0.11235207],\n",
       "       [0.56902473, 0.43097527],\n",
       "       [0.16591456, 0.83408544],\n",
       "       [0.8906411 , 0.1093589 ],\n",
       "       [0.16482584, 0.83517416],\n",
       "       [0.31976535, 0.68023465],\n",
       "       [0.82605113, 0.17394887],\n",
       "       [0.69402787, 0.30597213],\n",
       "       [0.8109051 , 0.1890949 ],\n",
       "       [0.16949268, 0.83050732],\n",
       "       [0.56917004, 0.43082996],\n",
       "       [0.82628948, 0.17371052],\n",
       "       [0.42284954, 0.57715046],\n",
       "       [0.82030971, 0.17969029],\n",
       "       [0.29970944, 0.70029056],\n",
       "       [0.18072774, 0.81927226],\n",
       "       [0.56974999, 0.43025001],\n",
       "       [0.8905234 , 0.1094766 ],\n",
       "       [0.5694118 , 0.4305882 ],\n",
       "       [0.71434331, 0.28565669],\n",
       "       [0.69550219, 0.30449781],\n",
       "       [0.82604286, 0.17395714],\n",
       "       [0.82242906, 0.17757094],\n",
       "       [0.89066511, 0.10933489],\n",
       "       [0.29144668, 0.70855332],\n",
       "       [0.16949268, 0.83050732],\n",
       "       [0.5627271 , 0.4372729 ],\n",
       "       [0.05912991, 0.94087009],\n",
       "       [0.0892418 , 0.9107582 ],\n",
       "       [0.10390419, 0.89609581],\n",
       "       [0.68782714, 0.31217286],\n",
       "       [0.8906411 , 0.1093589 ],\n",
       "       [0.41094635, 0.58905365],\n",
       "       [0.80916281, 0.19083719],\n",
       "       [0.79612247, 0.20387753],\n",
       "       [0.40622885, 0.59377115],\n",
       "       [0.41189147, 0.58810853],\n",
       "       [0.81159206, 0.18840794],\n",
       "       [0.8782572 , 0.1217428 ],\n",
       "       [0.68477056, 0.31522944],\n",
       "       [0.07691931, 0.92308069],\n",
       "       [0.55750403, 0.44249597],\n",
       "       [0.79547355, 0.20452645],\n",
       "       [0.05596704, 0.94403296],\n",
       "       [0.27611862, 0.72388138],\n",
       "       [0.21508105, 0.78491895],\n",
       "       [0.93333857, 0.06666143],\n",
       "       [0.06069643, 0.93930357],\n",
       "       [0.93332885, 0.06667115],\n",
       "       [0.79532111, 0.20467889],\n",
       "       [0.09744309, 0.90255691],\n",
       "       [0.29967666, 0.70032334]])"
      ]
     },
     "execution_count": 50,
     "metadata": {},
     "output_type": "execute_result"
    }
   ],
   "source": [
    "\n",
    "y_pred = log_reg.predict(X_test_fit)\n",
    "\n",
    "pred_prob = log_reg.predict_proba(X_test_fit)\n",
    "pred_prob"
   ]
  },
  {
   "cell_type": "code",
   "execution_count": 51,
   "id": "4e5c50f3",
   "metadata": {},
   "outputs": [
    {
     "data": {
      "text/plain": [
       "array([0, 1], dtype=int64)"
      ]
     },
     "execution_count": 51,
     "metadata": {},
     "output_type": "execute_result"
    }
   ],
   "source": [
    "log_reg.classes_"
   ]
  },
  {
   "cell_type": "code",
   "execution_count": 52,
   "id": "de60acdd",
   "metadata": {},
   "outputs": [
    {
     "data": {
      "text/html": [
       "<div>\n",
       "<style scoped>\n",
       "    .dataframe tbody tr th:only-of-type {\n",
       "        vertical-align: middle;\n",
       "    }\n",
       "\n",
       "    .dataframe tbody tr th {\n",
       "        vertical-align: top;\n",
       "    }\n",
       "\n",
       "    .dataframe thead th {\n",
       "        text-align: right;\n",
       "    }\n",
       "</style>\n",
       "<table border=\"1\" class=\"dataframe\">\n",
       "  <thead>\n",
       "    <tr style=\"text-align: right;\">\n",
       "      <th></th>\n",
       "      <th>0</th>\n",
       "      <th>1</th>\n",
       "    </tr>\n",
       "  </thead>\n",
       "  <tbody>\n",
       "    <tr>\n",
       "      <th>0</th>\n",
       "      <td>0.890366</td>\n",
       "      <td>0.109634</td>\n",
       "    </tr>\n",
       "    <tr>\n",
       "      <th>1</th>\n",
       "      <td>0.167284</td>\n",
       "      <td>0.832716</td>\n",
       "    </tr>\n",
       "    <tr>\n",
       "      <th>2</th>\n",
       "      <td>0.672884</td>\n",
       "      <td>0.327116</td>\n",
       "    </tr>\n",
       "    <tr>\n",
       "      <th>3</th>\n",
       "      <td>0.816858</td>\n",
       "      <td>0.183142</td>\n",
       "    </tr>\n",
       "    <tr>\n",
       "      <th>4</th>\n",
       "      <td>0.316450</td>\n",
       "      <td>0.683550</td>\n",
       "    </tr>\n",
       "    <tr>\n",
       "      <th>...</th>\n",
       "      <td>...</td>\n",
       "      <td>...</td>\n",
       "    </tr>\n",
       "    <tr>\n",
       "      <th>174</th>\n",
       "      <td>0.060696</td>\n",
       "      <td>0.939304</td>\n",
       "    </tr>\n",
       "    <tr>\n",
       "      <th>175</th>\n",
       "      <td>0.933329</td>\n",
       "      <td>0.066671</td>\n",
       "    </tr>\n",
       "    <tr>\n",
       "      <th>176</th>\n",
       "      <td>0.795321</td>\n",
       "      <td>0.204679</td>\n",
       "    </tr>\n",
       "    <tr>\n",
       "      <th>177</th>\n",
       "      <td>0.097443</td>\n",
       "      <td>0.902557</td>\n",
       "    </tr>\n",
       "    <tr>\n",
       "      <th>178</th>\n",
       "      <td>0.299677</td>\n",
       "      <td>0.700323</td>\n",
       "    </tr>\n",
       "  </tbody>\n",
       "</table>\n",
       "<p>179 rows × 2 columns</p>\n",
       "</div>"
      ],
      "text/plain": [
       "            0         1\n",
       "0    0.890366  0.109634\n",
       "1    0.167284  0.832716\n",
       "2    0.672884  0.327116\n",
       "3    0.816858  0.183142\n",
       "4    0.316450  0.683550\n",
       "..        ...       ...\n",
       "174  0.060696  0.939304\n",
       "175  0.933329  0.066671\n",
       "176  0.795321  0.204679\n",
       "177  0.097443  0.902557\n",
       "178  0.299677  0.700323\n",
       "\n",
       "[179 rows x 2 columns]"
      ]
     },
     "execution_count": 52,
     "metadata": {},
     "output_type": "execute_result"
    }
   ],
   "source": [
    "pd.DataFrame(data = pred_prob, columns = log_reg.classes_)"
   ]
  },
  {
   "cell_type": "code",
   "execution_count": 53,
   "id": "6f15fbf3",
   "metadata": {},
   "outputs": [
    {
     "name": "stdout",
     "output_type": "stream",
     "text": [
      "[CV] END ................................ score: (test=0.755) total time=   0.0s\n",
      "[CV] END ................................ score: (test=0.741) total time=   0.0s\n",
      "[CV] END ................................ score: (test=0.817) total time=   0.0s\n",
      "[CV] END ................................ score: (test=0.803) total time=   0.0s\n",
      "[CV] END ................................ score: (test=0.782) total time=   0.0s\n"
     ]
    },
    {
     "name": "stderr",
     "output_type": "stream",
     "text": [
      "[Parallel(n_jobs=1)]: Using backend SequentialBackend with 1 concurrent workers.\n",
      "[Parallel(n_jobs=1)]: Done   1 out of   1 | elapsed:    0.0s remaining:    0.0s\n",
      "[Parallel(n_jobs=1)]: Done   2 out of   2 | elapsed:    0.0s remaining:    0.0s\n",
      "[Parallel(n_jobs=1)]: Done   3 out of   3 | elapsed:    0.0s remaining:    0.0s\n",
      "[Parallel(n_jobs=1)]: Done   4 out of   4 | elapsed:    0.0s remaining:    0.0s\n",
      "[Parallel(n_jobs=1)]: Done   5 out of   5 | elapsed:    0.0s finished\n"
     ]
    }
   ],
   "source": [
    "cross_validation_log = cross_val_score(estimator=log_reg, \n",
    "                                     X=X_train_fit,\n",
    "                                     y=y_train,\n",
    "                                     scoring='accuracy', \n",
    "                                     cv=5, \n",
    "                                     verbose=5) "
   ]
  },
  {
   "cell_type": "code",
   "execution_count": 54,
   "id": "d7c0742b",
   "metadata": {},
   "outputs": [
    {
     "name": "stdout",
     "output_type": "stream",
     "text": [
      "Validation accuracy scores: [0.76 0.74 0.82 0.8  0.78]\n",
      "\n",
      "mean: 0.78\n",
      "std: 0.028\n",
      "The Training Accuracy is:  0.781\n",
      "The Testing Accuracy is:  0.765\n"
     ]
    }
   ],
   "source": [
    "print(f'Validation accuracy scores: {np.round(cross_validation_log,2)}')\n",
    "print(f'\\nmean: {cross_validation_log.mean():.2}')\n",
    "print(f'std: {cross_validation_log.std():.2}')\n",
    "\n",
    "\n",
    "# Accuracy on Train\n",
    "print(\"The Training Accuracy is: \", round(log_reg.score(X_train_fit, y_train),3))\n",
    "\n",
    "# Accuracy on Test\n",
    "print(\"The Testing Accuracy is: \", round(log_reg.score(X_test_fit, y_test),3))"
   ]
  },
  {
   "cell_type": "markdown",
   "id": "dadf28a3",
   "metadata": {},
   "source": [
    "# Evaluation Metrics"
   ]
  },
  {
   "cell_type": "code",
   "execution_count": 110,
   "id": "6139bead",
   "metadata": {},
   "outputs": [],
   "source": [
    "from sklearn.metrics import precision_score, recall_score, f1_score , ConfusionMatrixDisplay,accuracy_score\n",
    "from sklearn.metrics import confusion_matrix\n",
    "from sklearn.metrics import plot_confusion_matrix\n",
    "from sklearn.metrics import roc_curve, auc, plot_roc_curve\n",
    "from sklearn import metrics"
   ]
  },
  {
   "cell_type": "code",
   "execution_count": 86,
   "id": "fb6eb516",
   "metadata": {},
   "outputs": [],
   "source": [
    "\n",
    "#F1 score should be used when both precision and recall are important for the use case. "
   ]
  },
  {
   "cell_type": "code",
   "execution_count": 93,
   "id": "7e17f8d3",
   "metadata": {},
   "outputs": [
    {
     "name": "stdout",
     "output_type": "stream",
     "text": [
      "Accuracy of the LogisticRegression is: 0.7653631284916201\n"
     ]
    }
   ],
   "source": [
    "#Accuracy metric can be used to evaluate the classifier when the data set is a balanced data set.\n",
    "print(f\"Accuracy of the LogisticRegression is: {accuracy_score(y_test,y_pred)}\")"
   ]
  },
  {
   "cell_type": "code",
   "execution_count": 91,
   "id": "b58b4973",
   "metadata": {},
   "outputs": [
    {
     "name": "stdout",
     "output_type": "stream",
     "text": [
      "[[88 22]\n",
      " [20 49]]\n"
     ]
    },
    {
     "data": {
      "image/png": "[encoded data removed]",
      "text/plain": [
       "<Figure size 640x480 with 2 Axes>"
      ]
     },
     "metadata": {},
     "output_type": "display_data"
    }
   ],
   "source": [
    "\n",
    "plt.style.use('default')\n",
    "\n",
    "##confusion matrix can be used to evaluate a classifier whenever the data set is imbalanced.\n",
    "print(confusion_matrix(y_test, y_pred))\n",
    "\n",
    "# plot_confusion_matrix function is used to visualize the confusion matrix\n",
    "plot_confusion_matrix(log_reg , X_test_fit, y_test)\n",
    "plt.show()\n",
    "\n",
    "#True Positives (TP): 49\n",
    "#False positives (FP): 22\n",
    "#True Negatives (TN): 88\n",
    "#False Negatives (FN): 20\n"
   ]
  },
  {
   "cell_type": "code",
   "execution_count": 95,
   "id": "2d3592d1",
   "metadata": {},
   "outputs": [
    {
     "name": "stdout",
     "output_type": "stream",
     "text": [
      "Precision Score of the LogisticRegression is: 0.6901408450704225\n",
      "Recall Score of the LogisticRegression is: 0.7101449275362319\n",
      "F1 Score of the LogisticRegression is: 0.7\n"
     ]
    }
   ],
   "source": [
    "print(f\"Precision Score of the LogisticRegression is: {precision_score(y_test, y_pred)}\")\n",
    "print(f\"Recall Score of the LogisticRegression is: {recall_score(y_test, y_pred)}\")\n",
    "print(f\"F1 Score of the LogisticRegression is: {f1_score(y_test, y_pred)}\")"
   ]
  },
  {
   "cell_type": "markdown",
   "id": "a77795b7",
   "metadata": {},
   "source": [
    "# the ROC Curve"
   ]
  },
  {
   "cell_type": "code",
   "execution_count": 99,
   "id": "9cc17855",
   "metadata": {},
   "outputs": [],
   "source": [
    "pred_pr=log_reg.predict_proba(X_test_fit)\n"
   ]
  },
  {
   "cell_type": "code",
   "execution_count": 111,
   "id": "3d07b3ad",
   "metadata": {},
   "outputs": [],
   "source": [
    "\n",
    "fpr, tpr, threshold = metrics.roc_curve(y_test,pred_pr[:,1]);"
   ]
  },
  {
   "cell_type": "code",
   "execution_count": 124,
   "id": "4eb5c98c",
   "metadata": {},
   "outputs": [
    {
     "data": {
      "image/png": "[encoded data removed]",
      "text/plain": [
       "<Figure size 640x480 with 1 Axes>"
      ]
     },
     "metadata": {},
     "output_type": "display_data"
    }
   ],
   "source": [
    "\n",
    "#plt.plot(fpr,  tpr)\n",
    "\n",
    "# axis labels\n",
    "#plt.xlabel('False Positive Rate')\n",
    "#plt.ylabel('True Positive Rate')\n",
    "\n",
    "# show the plot\n",
    "#plt.show()\n",
    "auc = metrics.roc_auc_score(y_test, pred_pr[:,1])\n",
    "\n",
    "#create ROC curve\n",
    "plt.plot(fpr,tpr,label=\"LogReg, auc=\"+str(auc))\n",
    "plt.legend(loc=4)\n",
    "plt.show()\n"
   ]
  },
  {
   "cell_type": "code",
   "execution_count": 123,
   "id": "3af93926",
   "metadata": {},
   "outputs": [
    {
     "data": {
      "text/plain": [
       "<sklearn.metrics._plot.roc_curve.RocCurveDisplay at 0x1e1845566d0>"
      ]
     },
     "execution_count": 123,
     "metadata": {},
     "output_type": "execute_result"
    },
    {
     "data": {
      "image/png": "[encoded data removed]",
      "text/plain": [
       "<Figure size 640x480 with 1 Axes>"
      ]
     },
     "metadata": {},
     "output_type": "display_data"
    }
   ],
   "source": [
    "p=metrics.RocCurveDisplay(fpr=fpr, tpr=tpr, roc_auc=auc, estimator_name='LogReg')\n",
    "p.plot()"
   ]
  },
  {
   "cell_type": "markdown",
   "id": "4e1ef79d",
   "metadata": {},
   "source": [
    "# Decision trees "
   ]
  },
  {
   "cell_type": "code",
   "execution_count": 56,
   "id": "a7b94065",
   "metadata": {},
   "outputs": [],
   "source": [
    "#https://towardsdatascience.com/understanding-decision-trees-for-classification-python-9663d683c952"
   ]
  },
  {
   "cell_type": "code",
   "execution_count": 57,
   "id": "fffee474",
   "metadata": {},
   "outputs": [],
   "source": [
    "from sklearn.tree import DecisionTreeClassifier"
   ]
  },
  {
   "cell_type": "code",
   "execution_count": 126,
   "id": "fe40cb2e",
   "metadata": {},
   "outputs": [],
   "source": [
    "#X_train_fit.head(10)"
   ]
  },
  {
   "cell_type": "code",
   "execution_count": 60,
   "id": "50fd289c",
   "metadata": {
    "scrolled": true
   },
   "outputs": [
    {
     "data": {
      "text/html": [
       "<div>\n",
       "<style scoped>\n",
       "    .dataframe tbody tr th:only-of-type {\n",
       "        vertical-align: middle;\n",
       "    }\n",
       "\n",
       "    .dataframe tbody tr th {\n",
       "        vertical-align: top;\n",
       "    }\n",
       "\n",
       "    .dataframe thead th {\n",
       "        text-align: right;\n",
       "    }\n",
       "</style>\n",
       "<table border=\"1\" class=\"dataframe\">\n",
       "  <thead>\n",
       "    <tr style=\"text-align: right;\">\n",
       "      <th></th>\n",
       "      <th>max_depth_r</th>\n",
       "      <th>accuracy_train</th>\n",
       "      <th>accuracy_test</th>\n",
       "    </tr>\n",
       "  </thead>\n",
       "  <tbody>\n",
       "    <tr>\n",
       "      <th>0</th>\n",
       "      <td>1</td>\n",
       "      <td>0.787921</td>\n",
       "      <td>0.782123</td>\n",
       "    </tr>\n",
       "    <tr>\n",
       "      <th>1</th>\n",
       "      <td>2</td>\n",
       "      <td>0.792135</td>\n",
       "      <td>0.765363</td>\n",
       "    </tr>\n",
       "    <tr>\n",
       "      <th>2</th>\n",
       "      <td>3</td>\n",
       "      <td>0.813202</td>\n",
       "      <td>0.798883</td>\n",
       "    </tr>\n",
       "    <tr>\n",
       "      <th>3</th>\n",
       "      <td>4</td>\n",
       "      <td>0.825843</td>\n",
       "      <td>0.798883</td>\n",
       "    </tr>\n",
       "    <tr>\n",
       "      <th>4</th>\n",
       "      <td>5</td>\n",
       "      <td>0.838483</td>\n",
       "      <td>0.798883</td>\n",
       "    </tr>\n",
       "    <tr>\n",
       "      <th>5</th>\n",
       "      <td>6</td>\n",
       "      <td>0.865169</td>\n",
       "      <td>0.776536</td>\n",
       "    </tr>\n",
       "  </tbody>\n",
       "</table>\n",
       "</div>"
      ],
      "text/plain": [
       "   max_depth_r  accuracy_train  accuracy_test\n",
       "0            1        0.787921       0.782123\n",
       "1            2        0.792135       0.765363\n",
       "2            3        0.813202       0.798883\n",
       "3            4        0.825843       0.798883\n",
       "4            5        0.838483       0.798883\n",
       "5            6        0.865169       0.776536"
      ]
     },
     "execution_count": 60,
     "metadata": {},
     "output_type": "execute_result"
    }
   ],
   "source": [
    "#Finding the optimal value formax_depth\n",
    "#we wil see the accuracy for the model with different values for max_depth\n",
    "\n",
    "\n",
    "max_depth_r = list(range(1, 7))# the list of values to try for max_depth\n",
    "accuracy_train = []\n",
    "accuracy_test = [] # list to store the accuracy for each value of max_depth\n",
    "for depth in max_depth_r:\n",
    "    \n",
    "    dt = DecisionTreeClassifier(max_depth = depth, \n",
    "                             random_state = 15)\n",
    "    dt.fit(X_train_fit,y_train)\n",
    "    ypred = dt.predict(X_train_fit)\n",
    "    score_train = dt.score(X_train_fit,y_train)\n",
    "    score_test = dt.score(X_test_fit, y_test)\n",
    "    accuracy_train.append(score_train)\n",
    "    accuracy_test.append(score_test)\n",
    "\n",
    "accuracy_list = zip(max_depth_r,accuracy_train,accuracy_test)\n",
    "df_dt = pd.DataFrame(data = accuracy_list,\n",
    "    columns=['max_depth_r', 'accuracy_train','accuracy_test'])\n",
    "\n",
    "df_dt"
   ]
  },
  {
   "cell_type": "code",
   "execution_count": 61,
   "id": "effa600e",
   "metadata": {},
   "outputs": [
    {
     "name": "stdout",
     "output_type": "stream",
     "text": [
      "6\n",
      "43\n"
     ]
    }
   ],
   "source": [
    "# max_depth is not always equal to depth\n",
    "print(dt.get_depth())\n",
    "print(dt.get_n_leaves())"
   ]
  },
  {
   "cell_type": "code",
   "execution_count": 62,
   "id": "d1ab1993",
   "metadata": {},
   "outputs": [
    {
     "data": {
      "text/plain": [
       "Text(0, 0.5, 'accuracy')"
      ]
     },
     "execution_count": 62,
     "metadata": {},
     "output_type": "execute_result"
    },
    {
     "data": {
      "image/png": "[encoded data removed]",
      "text/plain": [
       "<Figure size 432x288 with 1 Axes>"
      ]
     },
     "metadata": {},
     "output_type": "display_data"
    }
   ],
   "source": [
    "#the best accuracy for our the model is when the parameter max_depth is 3,4,5\n",
    "#max_depth=3\n",
    "plt.style.use('ggplot')\n",
    "plt.plot(max_depth_r,accuracy_test,color='black', marker='o', markerfacecolor='red',markersize=10)\n",
    "plt.xlabel('max_depth')\n",
    "plt.ylabel('accuracy')\n"
   ]
  },
  {
   "cell_type": "code",
   "execution_count": 63,
   "id": "1fa1b587",
   "metadata": {},
   "outputs": [
    {
     "data": {
      "text/html": [
       "<div>\n",
       "<style scoped>\n",
       "    .dataframe tbody tr th:only-of-type {\n",
       "        vertical-align: middle;\n",
       "    }\n",
       "\n",
       "    .dataframe tbody tr th {\n",
       "        vertical-align: top;\n",
       "    }\n",
       "\n",
       "    .dataframe thead th {\n",
       "        text-align: right;\n",
       "    }\n",
       "</style>\n",
       "<table border=\"1\" class=\"dataframe\">\n",
       "  <thead>\n",
       "    <tr style=\"text-align: right;\">\n",
       "      <th></th>\n",
       "      <th>feature</th>\n",
       "      <th>importance</th>\n",
       "    </tr>\n",
       "  </thead>\n",
       "  <tbody>\n",
       "    <tr>\n",
       "      <th>0</th>\n",
       "      <td>Sex_male</td>\n",
       "      <td>0.504933</td>\n",
       "    </tr>\n",
       "    <tr>\n",
       "      <th>1</th>\n",
       "      <td>fare_scaled_train</td>\n",
       "      <td>0.317560</td>\n",
       "    </tr>\n",
       "    <tr>\n",
       "      <th>2</th>\n",
       "      <td>ohe_pclass 3</td>\n",
       "      <td>0.133450</td>\n",
       "    </tr>\n",
       "    <tr>\n",
       "      <th>3</th>\n",
       "      <td>age_bin_train</td>\n",
       "      <td>0.028125</td>\n",
       "    </tr>\n",
       "    <tr>\n",
       "      <th>4</th>\n",
       "      <td>embarked_ohe_train S</td>\n",
       "      <td>0.011396</td>\n",
       "    </tr>\n",
       "    <tr>\n",
       "      <th>5</th>\n",
       "      <td>embarked_ohe_train Q</td>\n",
       "      <td>0.004536</td>\n",
       "    </tr>\n",
       "    <tr>\n",
       "      <th>6</th>\n",
       "      <td>ohe_pclass 2</td>\n",
       "      <td>0.000000</td>\n",
       "    </tr>\n",
       "  </tbody>\n",
       "</table>\n",
       "</div>"
      ],
      "text/plain": [
       "                feature  importance\n",
       "0              Sex_male    0.504933\n",
       "1     fare_scaled_train    0.317560\n",
       "2          ohe_pclass 3    0.133450\n",
       "3         age_bin_train    0.028125\n",
       "4  embarked_ohe_train S    0.011396\n",
       "5  embarked_ohe_train Q    0.004536\n",
       "6          ohe_pclass 2    0.000000"
      ]
     },
     "execution_count": 63,
     "metadata": {},
     "output_type": "execute_result"
    }
   ],
   "source": [
    "importances = pd.DataFrame({'feature':X_train_fit.columns,'importance':dt.feature_importances_})\n",
    "importances = importances.sort_values('importance',ascending=False)\n",
    "importances = importances.reset_index(drop=True)\n",
    "importances "
   ]
  },
  {
   "cell_type": "markdown",
   "id": "b10f0ce2",
   "metadata": {},
   "source": [
    "# Random forest"
   ]
  },
  {
   "cell_type": "code",
   "execution_count": 64,
   "id": "c3059f36",
   "metadata": {},
   "outputs": [],
   "source": [
    "from sklearn.ensemble import RandomForestClassifier\n",
    "from sklearn.model_selection import RandomizedSearchCV"
   ]
  },
  {
   "cell_type": "code",
   "execution_count": 65,
   "id": "bafe67b3",
   "metadata": {},
   "outputs": [],
   "source": [
    "#list comprehension\n",
    "n_estimators = [int(x) for x in [200,300,400,500]]\n",
    "\n",
    "max_features = [int(x) for x in [2,3,4,5]]\n",
    "# Maximum number of levels in tree\n",
    "max_depth = [int(x) for x in [2,3,4,5]]\n",
    "#max_depth.append(max_depth)\n",
    "# Method of selecting samples for training each tree\n",
    "bootstrap = [True, False]\n",
    "#to search for best hyperparameters\n",
    "random_rfc_grid = {'n_estimators': n_estimators,\n",
    "               'max_features': max_features,\n",
    "               'max_depth': max_depth,\n",
    "               'bootstrap': bootstrap}\n"
   ]
  },
  {
   "cell_type": "code",
   "execution_count": 66,
   "id": "a131d12d",
   "metadata": {},
   "outputs": [],
   "source": [
    "#https://scikit-learn.org/stable/modules/generated/sklearn.model_selection.RandomizedSearchCV.html\n",
    "rfc =RandomForestClassifier()\n",
    "rfc_rs = RandomizedSearchCV(estimator = rfc, param_distributions = random_rfc_grid, \n",
    "                        random_state=55)\n"
   ]
  },
  {
   "cell_type": "code",
   "execution_count": 67,
   "id": "20bec326",
   "metadata": {},
   "outputs": [
    {
     "data": {
      "text/plain": [
       "RandomizedSearchCV(estimator=RandomForestClassifier(),\n",
       "                   param_distributions={'bootstrap': [True, False],\n",
       "                                        ('max_depth', [2, 3, 4, 5, [...]]),\n",
       "                                        'max_features': [2, 3, 4, 5],\n",
       "                                        'n_estimators': [200, 300, 400, 500]},\n",
       "                   random_state=55)"
      ]
     },
     "execution_count": 67,
     "metadata": {},
     "output_type": "execute_result"
    }
   ],
   "source": [
    "rfc_rs.fit(X_train_fit, y_train)"
   ]
  },
  {
   "cell_type": "code",
   "execution_count": 68,
   "id": "e886659e",
   "metadata": {},
   "outputs": [
    {
     "data": {
      "text/plain": [
       "{'n_estimators': 400, 'max_features': 5, 'max_depth': 4, 'bootstrap': True}"
      ]
     },
     "execution_count": 68,
     "metadata": {},
     "output_type": "execute_result"
    }
   ],
   "source": [
    "rfc_rs.best_params_"
   ]
  },
  {
   "cell_type": "code",
   "execution_count": 70,
   "id": "d143a9e6",
   "metadata": {},
   "outputs": [],
   "source": [
    "rfc_p= RandomForestClassifier(n_estimators= 400, max_features= 5, max_depth= 4, bootstrap= True)\n"
   ]
  },
  {
   "cell_type": "code",
   "execution_count": 72,
   "id": "6f369dbd",
   "metadata": {},
   "outputs": [
    {
     "data": {
      "text/plain": [
       "RandomForestClassifier(max_depth=4, max_features=5, n_estimators=400)"
      ]
     },
     "execution_count": 72,
     "metadata": {},
     "output_type": "execute_result"
    }
   ],
   "source": [
    "rfc_p.fit(X_train_fit, y_train)"
   ]
  },
  {
   "cell_type": "code",
   "execution_count": 73,
   "id": "bc6ed03d",
   "metadata": {},
   "outputs": [
    {
     "data": {
      "text/plain": [
       "0.8286516853932584"
      ]
     },
     "execution_count": 73,
     "metadata": {},
     "output_type": "execute_result"
    }
   ],
   "source": [
    "rfc_p.score(X_train_fit, y_train)"
   ]
  },
  {
   "cell_type": "code",
   "execution_count": 74,
   "id": "57bb831c",
   "metadata": {},
   "outputs": [
    {
     "data": {
      "text/plain": [
       "0.7988826815642458"
      ]
     },
     "execution_count": 74,
     "metadata": {},
     "output_type": "execute_result"
    }
   ],
   "source": [
    "rfc_p.score(X_test_fit, y_test)"
   ]
  },
  {
   "cell_type": "code",
   "execution_count": 75,
   "id": "d001c289",
   "metadata": {},
   "outputs": [
    {
     "data": {
      "text/html": [
       "<div>\n",
       "<style scoped>\n",
       "    .dataframe tbody tr th:only-of-type {\n",
       "        vertical-align: middle;\n",
       "    }\n",
       "\n",
       "    .dataframe tbody tr th {\n",
       "        vertical-align: top;\n",
       "    }\n",
       "\n",
       "    .dataframe thead th {\n",
       "        text-align: right;\n",
       "    }\n",
       "</style>\n",
       "<table border=\"1\" class=\"dataframe\">\n",
       "  <thead>\n",
       "    <tr style=\"text-align: right;\">\n",
       "      <th></th>\n",
       "      <th>feature</th>\n",
       "      <th>importance</th>\n",
       "    </tr>\n",
       "  </thead>\n",
       "  <tbody>\n",
       "    <tr>\n",
       "      <th>0</th>\n",
       "      <td>Sex_male</td>\n",
       "      <td>0.574211</td>\n",
       "    </tr>\n",
       "    <tr>\n",
       "      <th>1</th>\n",
       "      <td>fare_scaled_train</td>\n",
       "      <td>0.204554</td>\n",
       "    </tr>\n",
       "    <tr>\n",
       "      <th>2</th>\n",
       "      <td>ohe_pclass 3</td>\n",
       "      <td>0.161199</td>\n",
       "    </tr>\n",
       "    <tr>\n",
       "      <th>3</th>\n",
       "      <td>age_bin_train</td>\n",
       "      <td>0.024084</td>\n",
       "    </tr>\n",
       "    <tr>\n",
       "      <th>4</th>\n",
       "      <td>embarked_ohe_train S</td>\n",
       "      <td>0.018799</td>\n",
       "    </tr>\n",
       "    <tr>\n",
       "      <th>5</th>\n",
       "      <td>ohe_pclass 2</td>\n",
       "      <td>0.010092</td>\n",
       "    </tr>\n",
       "    <tr>\n",
       "      <th>6</th>\n",
       "      <td>embarked_ohe_train Q</td>\n",
       "      <td>0.007061</td>\n",
       "    </tr>\n",
       "  </tbody>\n",
       "</table>\n",
       "</div>"
      ],
      "text/plain": [
       "                feature  importance\n",
       "0              Sex_male    0.574211\n",
       "1     fare_scaled_train    0.204554\n",
       "2          ohe_pclass 3    0.161199\n",
       "3         age_bin_train    0.024084\n",
       "4  embarked_ohe_train S    0.018799\n",
       "5          ohe_pclass 2    0.010092\n",
       "6  embarked_ohe_train Q    0.007061"
      ]
     },
     "execution_count": 75,
     "metadata": {},
     "output_type": "execute_result"
    }
   ],
   "source": [
    "importances = pd.DataFrame({'feature':X_train_fit.columns,'importance':rfc_p.feature_importances_})\n",
    "importances = importances.sort_values('importance',ascending=False)\n",
    "importances = importances.reset_index(drop=True)\n",
    "importances "
   ]
  },
  {
   "cell_type": "code",
   "execution_count": 80,
   "id": "849752dc",
   "metadata": {},
   "outputs": [],
   "source": [
    "from sklearn.model_selection import StratifiedShuffleSplit\n"
   ]
  },
  {
   "cell_type": "code",
   "execution_count": 81,
   "id": "c4f42215",
   "metadata": {},
   "outputs": [],
   "source": [
    "# if we have an imbalanced classification we could use StratifiedShuffleSplit\n",
    "sfs = StratifiedShuffleSplit(n_splits=5,\n",
    "                           test_size=0.20,\n",
    "                           random_state=22)"
   ]
  },
  {
   "cell_type": "code",
   "execution_count": 82,
   "id": "45e5f872",
   "metadata": {},
   "outputs": [
    {
     "name": "stderr",
     "output_type": "stream",
     "text": [
      "[Parallel(n_jobs=1)]: Using backend SequentialBackend with 1 concurrent workers.\n"
     ]
    },
    {
     "name": "stdout",
     "output_type": "stream",
     "text": [
      "[CV] END ................................ score: (test=0.748) total time=   0.3s\n"
     ]
    },
    {
     "name": "stderr",
     "output_type": "stream",
     "text": [
      "[Parallel(n_jobs=1)]: Done   1 out of   1 | elapsed:    0.3s remaining:    0.0s\n"
     ]
    },
    {
     "name": "stdout",
     "output_type": "stream",
     "text": [
      "[CV] END ................................ score: (test=0.776) total time=   0.3s\n"
     ]
    },
    {
     "name": "stderr",
     "output_type": "stream",
     "text": [
      "[Parallel(n_jobs=1)]: Done   2 out of   2 | elapsed:    0.8s remaining:    0.0s\n"
     ]
    },
    {
     "name": "stdout",
     "output_type": "stream",
     "text": [
      "[CV] END ................................ score: (test=0.853) total time=   0.4s\n",
      "[CV] END ................................ score: (test=0.776) total time=   0.3s\n",
      "[CV] END ................................ score: (test=0.804) total time=   0.4s\n"
     ]
    },
    {
     "name": "stderr",
     "output_type": "stream",
     "text": [
      "[Parallel(n_jobs=1)]: Done   5 out of   5 | elapsed:    2.1s finished\n"
     ]
    }
   ],
   "source": [
    "\n",
    "cross_validation_rfc_p = cross_val_score(estimator=rfc_p, # the model to evaluate\n",
    "                                     X=X_train_fit,\n",
    "                                     y=y_train,\n",
    "                                     scoring='accuracy', # evaluation metrics\n",
    "                                     cv=sfs, # cross validation splitting\n",
    "                                     verbose=3) "
   ]
  },
  {
   "cell_type": "code",
   "execution_count": 83,
   "id": "22efaaf7",
   "metadata": {},
   "outputs": [
    {
     "name": "stdout",
     "output_type": "stream",
     "text": [
      "Validation accuracy scores: [0.75 0.78 0.85 0.78 0.8 ]\n",
      "\n",
      "mean: 0.79\n",
      "std: 0.035\n",
      "The Training Accuracy is:  0.829\n",
      "The Testing Accuracy is:  0.799\n"
     ]
    }
   ],
   "source": [
    "print(f'Validation accuracy scores: {np.round(cross_validation_rfc_p,2)}')\n",
    "print(f'\\nmean: {cross_validation_rfc_p.mean():.2}')\n",
    "print(f'std: {cross_validation_rfc_p.std():.2}')\n",
    "\n",
    "\n",
    "# Accuracy on Train\n",
    "print(\"The Training Accuracy is: \", round(rfc_p.score(X_train_fit, y_train),3))\n",
    "\n",
    "# Accuracy on Test\n",
    "print(\"The Testing Accuracy is: \", round(rfc_p.score(X_test_fit, y_test),3))"
   ]
  },
  {
   "cell_type": "code",
   "execution_count": null,
   "id": "472d0328",
   "metadata": {},
   "outputs": [],
   "source": [
    "#sources\n",
    "#https://www.youtube.com/watch?v=J4Wdy0Wc_xQ\n",
    "#https://course18.fast.ai/lessonsml1/lesson1.html"
   ]
  }
 ],
 "metadata": {
  "kernelspec": {
   "display_name": "Python 3",
   "language": "python",
   "name": "python3"
  },
  "language_info": {
   "codemirror_mode": {
    "name": "ipython",
    "version": 3
   },
   "file_extension": ".py",
   "mimetype": "text/x-python",
   "name": "python",
   "nbconvert_exporter": "python",
   "pygments_lexer": "ipython3",
   "version": "3.8.8"
  }
 },
 "nbformat": 4,
 "nbformat_minor": 5
}
